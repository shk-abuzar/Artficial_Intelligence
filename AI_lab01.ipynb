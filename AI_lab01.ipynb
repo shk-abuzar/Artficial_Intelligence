{
 "cells": [
  {
   "cell_type": "code",
   "execution_count": 1,
   "id": "5e4ed765-e95a-494f-9999-5e384fb5d760",
   "metadata": {},
   "outputs": [
    {
     "name": "stdout",
     "output_type": "stream",
     "text": [
      "Hello World!\n"
     ]
    }
   ],
   "source": [
    "print(\"Hello World!\")"
   ]
  },
  {
   "cell_type": "code",
   "execution_count": 2,
   "id": "5e78ab63-c029-4f2f-add5-34be89b27001",
   "metadata": {},
   "outputs": [
    {
     "name": "stdout",
     "output_type": "stream",
     "text": [
      "these are two comments\n"
     ]
    }
   ],
   "source": [
    "x=1\n",
    "#the initial value of x is 1\n",
    "if x>0:\n",
    "    print(\"these are two comments\")  #print a string"
   ]
  },
  {
   "cell_type": "code",
   "execution_count": 3,
   "id": "6c23b13d-8438-44ea-9006-10903d0b93ea",
   "metadata": {},
   "outputs": [
    {
     "name": "stdout",
     "output_type": "stream",
     "text": [
      "Statement 1\n",
      "Statement 2\n",
      "Statement 1\n",
      "Statement 1\n"
     ]
    }
   ],
   "source": [
    "print(\"Statement 1\")\n",
    "print(\"Statement 2\")\n",
    "\n",
    "\n",
    "# you can write above two statements in the following way\n",
    "\n",
    "print(\"Statement 1\");print(\"Statement 1\")"
   ]
  },
  {
   "cell_type": "code",
   "execution_count": 7,
   "id": "44af3d33-a1f3-4c61-b402-cbef761c367a",
   "metadata": {},
   "outputs": [
    {
     "ename": "IndentationError",
     "evalue": "expected an indented block after 'if' statement on line 2 (3763601529.py, line 3)",
     "output_type": "error",
     "traceback": [
      "\u001b[1;36m  Cell \u001b[1;32mIn[7], line 3\u001b[1;36m\u001b[0m\n\u001b[1;33m    print(\"this line has no identation\")\u001b[0m\n\u001b[1;37m    ^\u001b[0m\n\u001b[1;31mIndentationError\u001b[0m\u001b[1;31m:\u001b[0m expected an indented block after 'if' statement on line 2\n"
     ]
    }
   ],
   "source": [
    "x=1\n",
    "if x>0:\n",
    "print(\"this line has no identation\")\n",
    "print(\"this line has no identation\")"
   ]
  },
  {
   "cell_type": "code",
   "execution_count": 8,
   "id": "006f3a15-0194-4ea7-8869-70f158536cbe",
   "metadata": {},
   "outputs": [
    {
     "name": "stdout",
     "output_type": "stream",
     "text": [
      "this line has no identation\n",
      "this line has no identation\n"
     ]
    }
   ],
   "source": [
    "x=1\n",
    "if x>0:\n",
    "    print(\"this line has no identation\")\n",
    "print(\"this line has no identation\")"
   ]
  },
  {
   "cell_type": "code",
   "execution_count": 13,
   "id": "7aac35c8-6ba8-4336-9726-79e67a7df30c",
   "metadata": {},
   "outputs": [
    {
     "name": "stdout",
     "output_type": "stream",
     "text": [
      "This line has a single  space identation\n"
     ]
    }
   ],
   "source": [
    "x=1\n",
    "if x>0:\n",
    " print(\"This line has a single  space identation\")"
   ]
  },
  {
   "cell_type": "code",
   "execution_count": 12,
   "id": "0bd17ef4-98cb-4703-960a-fd720fc1d2f6",
   "metadata": {},
   "outputs": [
    {
     "name": "stdout",
     "output_type": "stream",
     "text": [
      "This line has a single  tab identation\n"
     ]
    }
   ],
   "source": [
    "x=1\n",
    "if x>0:\n",
    "    print(\"This line has a single  tab identation\")"
   ]
  },
  {
   "cell_type": "code",
   "execution_count": 14,
   "id": "416d8990-92b1-4208-8f42-366c7bdadfb8",
   "metadata": {},
   "outputs": [
    {
     "name": "stdout",
     "output_type": "stream",
     "text": [
      "This line has a single  space + tab identation\n"
     ]
    }
   ],
   "source": [
    "x=1\n",
    "if x>0:\n",
    "     print(\"This line has a single  space + tab identation\")"
   ]
  },
  {
   "cell_type": "markdown",
   "id": "d4ea8101-a12b-4eaf-ac95-46e703ae27a2",
   "metadata": {},
   "source": [
    "## checking data types of different variables"
   ]
  },
  {
   "cell_type": "code",
   "execution_count": 20,
   "id": "256b6248-5d1c-498e-83cb-e9ccf1f3f174",
   "metadata": {},
   "outputs": [
    {
     "name": "stdout",
     "output_type": "stream",
     "text": [
      "<class 'int'>\n",
      "<class 'int'>\n",
      "<class 'int'>\n",
      "<class 'float'>\n",
      "<class 'float'>\n",
      "<class 'float'>\n",
      "<class 'float'>\n",
      "<class 'float'>\n"
     ]
    }
   ],
   "source": [
    "a=1452\n",
    "print(type(a))\n",
    "b=(-1452)\n",
    "print(type(b))\n",
    "c=0\n",
    "print(type(c))\n",
    "g=1.03\n",
    "print(type(g))\n",
    "h=-11.23\n",
    "print(type(h))\n",
    "i=.32\n",
    "print(type(i))\n",
    "j=2.12e-10\n",
    "print(type(j))\n",
    "k=5E220\n",
    "print(type(k))"
   ]
  },
  {
   "cell_type": "markdown",
   "id": "b59bf635-2b59-4422-aa37-c1bd8edd16d7",
   "metadata": {},
   "source": [
    "## complex numbers also exists in Python"
   ]
  },
  {
   "cell_type": "code",
   "execution_count": 24,
   "id": "8121c11e-1d7f-44ef-8fa8-06e5d919449a",
   "metadata": {},
   "outputs": [
    {
     "name": "stdout",
     "output_type": "stream",
     "text": [
      "<class 'complex'>\n",
      "value of x= (1+2j)\n",
      "<class 'complex'>\n",
      "value of z= (1+2j)\n",
      "value of z= (1+2j)\n"
     ]
    },
    {
     "data": {
      "text/plain": [
       "complex"
      ]
     },
     "execution_count": 24,
     "metadata": {},
     "output_type": "execute_result"
    }
   ],
   "source": [
    "x=complex(1,2)\n",
    "print(type(x))\n",
    "print(\"value of x=\",x)\n",
    "\n",
    "z=1+2j\n",
    "print(type(z))\n",
    "print(\"value of z=\",z)\n",
    "\n",
    "z=1+2J\n",
    "print(\"value of z=\",z)\n",
    "type(z)\n"
   ]
  },
  {
   "cell_type": "markdown",
   "id": "8a6b651a-4fde-46b1-b807-302e3fefd27f",
   "metadata": {},
   "source": [
    "## Boolean variable"
   ]
  },
  {
   "cell_type": "code",
   "execution_count": 25,
   "id": "c1274799-bed9-48bc-adae-48a6f4b01fa2",
   "metadata": {},
   "outputs": [
    {
     "name": "stdout",
     "output_type": "stream",
     "text": [
      "<class 'bool'>\n",
      "<class 'bool'>\n"
     ]
    }
   ],
   "source": [
    "x = True\n",
    "print(type(x))\n",
    "\n",
    "y=False\n",
    "print(type(y))"
   ]
  },
  {
   "cell_type": "code",
   "execution_count": 26,
   "id": "e494f48a-c08d-456c-a109-f3bcaf203803",
   "metadata": {},
   "outputs": [
    {
     "name": "stdout",
     "output_type": "stream",
     "text": [
      "string1\n"
     ]
    },
    {
     "data": {
      "text/plain": [
       "str"
      ]
     },
     "execution_count": 26,
     "metadata": {},
     "output_type": "execute_result"
    }
   ],
   "source": [
    "str1=\"string1\"\n",
    "print(str1)\n",
    "type(str1)"
   ]
  },
  {
   "cell_type": "markdown",
   "id": "54ff2605-b156-415a-a99a-9f81b9fd1d4d",
   "metadata": {},
   "source": [
    "### different sings indication"
   ]
  },
  {
   "cell_type": "code",
   "execution_count": 32,
   "id": "c7750b94-10b9-4919-a97f-56d4cac55e4d",
   "metadata": {},
   "outputs": [
    {
     "name": "stdout",
     "output_type": "stream",
     "text": [
      "this is a backslash \\ sign \n",
      "this is a tab \t sign\n",
      "this is a new line \n",
      " NEW Line\n",
      "this is a double quote \" sign\n",
      "this is a single quote ' sign\n"
     ]
    }
   ],
   "source": [
    "print(\"this is a backslash \\\\ sign \")\n",
    "print(\"this is a tab \\t sign\")\n",
    "print(\"this is a new line \\n NEW Line\")\n",
    "print(\"this is a double quote \\\" sign\")\n",
    "print(\"this is a single quote \\' sign\")"
   ]
  },
  {
   "cell_type": "code",
   "execution_count": 34,
   "id": "47a73489-454a-4420-9724-9b28c5409f4b",
   "metadata": {},
   "outputs": [],
   "source": [
    "### printing a sring index wise "
   ]
  },
  {
   "cell_type": "code",
   "execution_count": 33,
   "id": "a7b55773-e263-4026-936c-268699c3e0a5",
   "metadata": {},
   "outputs": [
    {
     "name": "stdout",
     "output_type": "stream",
     "text": [
      "P\n",
      "Y\n",
      "T\n",
      "H\n",
      "O\n",
      "N\n"
     ]
    }
   ],
   "source": [
    "string1=\"PYTHON\"\n",
    "print(string1[0])\n",
    "print(string1[-5])\n",
    "print(string1[2])\n",
    "print(string1[3])\n",
    "print(string1[-2])\n",
    "print(string1[5])"
   ]
  },
  {
   "cell_type": "code",
   "execution_count": 38,
   "id": "72cb567a-0518-4e3f-8726-67ed84f0b4dd",
   "metadata": {},
   "outputs": [
    {
     "name": "stdout",
     "output_type": "stream",
     "text": [
      "[1, 3, 2, 4, 4]\n",
      "<class 'list'>\n",
      "[1.1, 3.4, 4.0, 5.4]\n",
      "<class 'list'>\n",
      "[98, 'color', 2.2, True]\n",
      "<class 'list'>\n"
     ]
    }
   ],
   "source": [
    "list1=[1,3,2,4,4]\n",
    "print(list1)\n",
    "print(type(list1))\n",
    "\n",
    "list2=[1.1,3.4,4.0,5.4]\n",
    "print(list2)\n",
    "print(type(list2))\n",
    "\n",
    "list3=[98, \"color\",2.2,True]\n",
    "print(list3)\n",
    "print(type(list3))"
   ]
  },
  {
   "cell_type": "code",
   "execution_count": 39,
   "id": "2bcb0124-cae3-4328-b871-f0bd5e634891",
   "metadata": {},
   "outputs": [
    {
     "name": "stdout",
     "output_type": "stream",
     "text": [
      "2.2\n"
     ]
    }
   ],
   "source": [
    "print(list3[2])"
   ]
  },
  {
   "cell_type": "markdown",
   "id": "b33eaa03-c28e-41ce-93a7-4269b3f0e4a0",
   "metadata": {},
   "source": [
    "## slicing list: means printing elements from  a from of your own requirement"
   ]
  },
  {
   "cell_type": "code",
   "execution_count": 42,
   "id": "b05f9d51-ba28-4b0e-b47a-27542807ed63",
   "metadata": {},
   "outputs": [
    {
     "name": "stdout",
     "output_type": "stream",
     "text": [
      "[1.1, 3.4, 4.0]\n",
      "['color', 2.2]\n"
     ]
    }
   ],
   "source": [
    "print(list2[:3])\n",
    "print(list3[1:3])"
   ]
  },
  {
   "cell_type": "code",
   "execution_count": null,
   "id": "b3af8fb3-631f-411c-bf34-67688bf6e48b",
   "metadata": {},
   "outputs": [],
   "source": []
  }
 ],
 "metadata": {
  "kernelspec": {
   "display_name": "Python 3 (ipykernel)",
   "language": "python",
   "name": "python3"
  },
  "language_info": {
   "codemirror_mode": {
    "name": "ipython",
    "version": 3
   },
   "file_extension": ".py",
   "mimetype": "text/x-python",
   "name": "python",
   "nbconvert_exporter": "python",
   "pygments_lexer": "ipython3",
   "version": "3.12.7"
  }
 },
 "nbformat": 4,
 "nbformat_minor": 5
}
