{
 "cells": [
  {
   "cell_type": "code",
   "execution_count": 3,
   "id": "70eca4d0-ee84-4c0c-9452-ec99cebe9d76",
   "metadata": {},
   "outputs": [
    {
     "name": "stdout",
     "output_type": "stream",
     "text": [
      "first\n"
     ]
    }
   ],
   "source": [
    "print(\"first\")"
   ]
  },
  {
   "cell_type": "code",
   "execution_count": 4,
   "id": "ad7c483a-a774-4c83-a933-7d4a98342520",
   "metadata": {},
   "outputs": [
    {
     "name": "stdout",
     "output_type": "stream",
     "text": [
      "hiiii this is printing \"section using \"back slach \n",
      " this is new printing line\n"
     ]
    }
   ],
   "source": [
    "'''\n",
    "hello this is first program of python programing on \n",
    "my laptop\n",
    "'''\n",
    "print(\"hiiii this is printing \\\"section using \\\"back slach \\n this is new printing line\")"
   ]
  },
  {
   "cell_type": "code",
   "execution_count": 5,
   "id": "fff16062-9ad6-435f-8e63-3853314a8f88",
   "metadata": {},
   "outputs": [
    {
     "name": "stdout",
     "output_type": "stream",
     "text": [
      "hey,9,8,8,using end statement , \"nothig will be added after this line beacause this is end Statement\" \n",
      "Abuzar\n"
     ]
    }
   ],
   "source": [
    "print(\"hey\",9,8,8,sep=\",\",end=\",using end statement , \\\"nothig will be added after this line beacause this is end Statement\\\" \\n\" )\n",
    "print(\"Abuzar\")"
   ]
  },
  {
   "cell_type": "code",
   "execution_count": 6,
   "id": "1f1be1a9-3073-475a-bf85-92dbe1146174",
   "metadata": {},
   "outputs": [
    {
     "name": "stdout",
     "output_type": "stream",
     "text": [
      "type of a is <class 'int'>\n",
      "value of a 10\n",
      "value of b: (2+3j)\n",
      "Type of b: <class 'complex'>\n",
      "value of c: 1.22\n",
      "Type of c <class 'float'>\n",
      "value of d how are you\n",
      "type of d: how are you\n",
      "None\n"
     ]
    }
   ],
   "source": [
    "a=10\n",
    "print(\"type of a is\",type(a))\n",
    "print(\"value of a\",a)\n",
    "b=complex(2,3)\n",
    "print(\"value of b:\",b)\n",
    "print(\"Type of b:\",type(b))\n",
    "c=1.22\n",
    "print(\"value of c:\",c)\n",
    "print(\"Type of c\",type(c))\n",
    "d=\"how are you\"\n",
    "print(\"value of d\",d)\n",
    "print(\"type of d:\", d)\n",
    "e=None\n",
    "print(e)\n",
    "\n"
   ]
  },
  {
   "cell_type": "code",
   "execution_count": 7,
   "id": "492241be-6c2e-4649-9888-0860486d2b6a",
   "metadata": {},
   "outputs": [
    {
     "name": "stdout",
     "output_type": "stream",
     "text": [
      "Exponential value of 5 and 3 is 125\n",
      " The value of 5 \"+\" 3 is 8\n",
      "The  value of 5 \"-\" 3 is 2\n",
      "The  value of 5 \"*\" 3 is 15\n",
      "The  value of 5 \"/\" 3 is 1.6666666666666667\n",
      "The  value of 5 \"//\" 3 is 1\n"
     ]
    }
   ],
   "source": [
    "num1=5\n",
    "num2=3\n",
    "print(f\"Exponential value of {num1} and {num2} is {num1**num2}\")\n",
    "print(f\" The value of {num1} \\\"+\\\" {num2} is {num1+num2}\")\n",
    "print(f\"The  value of {num1} \\\"-\\\" {num2} is {num1-num2}\")\n",
    "print(f\"The  value of {num1} \\\"*\\\" {num2} is {num1*num2}\")\n",
    "print(f\"The  value of {num1} \\\"/\\\" {num2} is {num1/num2}\")\n",
    "print(f\"The  value of {num1} \\\"//\\\" {num2} is {num1//num2}\")\n"
   ]
  },
  {
   "cell_type": "code",
   "execution_count": 8,
   "id": "335b99ac-6ebf-45dc-9049-fcda8e52677a",
   "metadata": {},
   "outputs": [
    {
     "name": "stdout",
     "output_type": "stream",
     "text": [
      "A\n",
      "b\n",
      "u\n",
      "z\n",
      "a\n",
      "r\n",
      " \n",
      "I\n",
      "r\n",
      "f\n",
      "a\n",
      "n\n",
      "Abuzar\n"
     ]
    }
   ],
   "source": [
    "# #syntax of for loop:\n",
    "# for character in string_name\n",
    "#     print(character)\n",
    "\n",
    "str_a=\"Abuzar Irfan\"\n",
    "for character in str_a:\n",
    "    print(character)\n",
    "# this method is used to print the string for your own requirement\n",
    "str_b=\"Abuzar Irfan\"\n",
    "print(str_b[0:6])"
   ]
  },
  {
   "cell_type": "markdown",
   "id": "e5dbf037-5f2b-4f37-8851-70e633084c74",
   "metadata": {},
   "source": [
    "## This code block is to explain the length of string"
   ]
  },
  {
   "cell_type": "code",
   "execution_count": 9,
   "id": "5b07a517-412a-4c68-a806-885de9dffca8",
   "metadata": {},
   "outputs": [
    {
     "name": "stdout",
     "output_type": "stream",
     "text": [
      "Length of given string is 6\n",
      "Abu\n",
      "Abu\n",
      "this differ syntax g\n",
      "Ab\n",
      "Ab\n"
     ]
    }
   ],
   "source": [
    "name=\"Abuzar\"\n",
    "print(f\"Length of given string is {len(name)}\")\n",
    "#Following both syntax gives same outputs\n",
    "print(name[0:3])\n",
    "print(name[:3]) #here before : it considers 0 by default\n",
    "# print(name[-6:-4])   ----> print(name[len(name)-6:len(name)-4])\n",
    "print('this differ syntax g')\n",
    "print(name[-6:-4])\n",
    "print(name[len(name)-6:len(name)-4])\n"
   ]
  },
  {
   "cell_type": "markdown",
   "id": "a5899dd3-be6f-45e6-8dbf-d8b4babe9223",
   "metadata": {},
   "source": [
    "### TODAY, THIS IS 7TH LECTURE"
   ]
  },
  {
   "cell_type": "markdown",
   "id": "82df2cdf-559b-4028-b7f8-adc822901f41",
   "metadata": {},
   "source": [
    "#### python looks all the types of data types int,float,boolean,string\n",
    "#### input BY Default returns STRING\n",
    "#### data frame pyy break Lggyy gi...\n",
    "\n"
   ]
  },
  {
   "cell_type": "code",
   "execution_count": 10,
   "id": "ecaa8b35-c932-4024-aa89-eac608452a55",
   "metadata": {},
   "outputs": [
    {
     "name": "stdout",
     "output_type": "stream",
     "text": [
      "l\n",
      "Mic\n",
      "7\n",
      "14\n",
      "Mlo\n",
      "Mhl\n",
      "#back slach n ....\n",
      " to print in the nxt line\n",
      "#back slach n ....    to print in the nxt line\n",
      "michal \\ jackon\n",
      "Before upper---> muhammad abuzar\n",
      "After Upper---> MUHAMMAD ABUZAR\n",
      "Before lower---> MUHAMMAD  ABUZAR\n",
      "After lower---> muhammad  abuzar\n",
      "---------------ONE MORE PRACTISE OF UPPER AND LOWER---------\n",
      "MICHEALJACKSON\n",
      "michealjackson\n",
      "This will print \"-1\" because the finding element does not exists here !\n"
     ]
    },
    {
     "data": {
      "text/plain": [
       "['Ahm', 'd R', 'z', ' is the best']"
      ]
     },
     "execution_count": 10,
     "metadata": {},
     "output_type": "execute_result"
    }
   ],
   "source": [
    "f_name=\"MichealJackson\"\n",
    "print(f_name[6])\n",
    "print(f_name[0:-11]) #slice....\n",
    "#using the Length  function of string\n",
    "print(len(\"heyyy!!\"))\n",
    "print(len(f_name))\n",
    "print(f_name[::6]) ##stride method\n",
    "print(f_name[0:7:3])\n",
    "\n",
    "\n",
    "print(\"#back slach n ....\\n to print in the nxt line\")\n",
    "print(\"#back slach n ....    to print in the nxt line\")\n",
    "\n",
    "#r is used to print the statement as it is!!!!\n",
    "print(r\"michal \\ jackon\")\n",
    "\n",
    "\n",
    "# ------------------------------------.upper()-----------------------------------\n",
    "stri=\"muhammad abuzar\"\n",
    "\n",
    "print(\"Before upper--->\",stri)\n",
    "\n",
    "b=stri.upper()\n",
    "\n",
    "print(\"After Upper--->\",b)\n",
    " #-------------------------------------.lower()----------------------------------------\n",
    "stri=\"MUHAMMAD  ABUZAR\"\n",
    "\n",
    "print(\"Before lower--->\",stri)\n",
    "\n",
    "b=stri.lower()\n",
    "\n",
    "print(\"After lower--->\",b)\n",
    "\n",
    "print(\"---------------ONE MORE PRACTISE OF UPPER AND LOWER---------\")\n",
    "\n",
    "d=f_name.upper()\n",
    "print(d)\n",
    "\n",
    "\n",
    "e=f_name.lower()\n",
    "print(e)\n",
    "\n",
    "\n",
    "name='Ahmad Raza is the best'\n",
    "n_name=name.replace('Raza','Butt')\n",
    "n_name\n",
    "\n",
    "find_num=name.find('za')\n",
    "find_num\n",
    "\n",
    "print(\"This will print \\\"-1\\\" because the finding element does not exists here !\")\n",
    "find_2nd=name.find(\"x\")\n",
    "find_2nd\n",
    "\n",
    "s_split=name.split(\"a\")\n",
    "s_split"
   ]
  },
  {
   "cell_type": "markdown",
   "id": "75d6bd74-80a7-40f8-b25e-0e131cfc1633",
   "metadata": {},
   "source": [
    "##  QUIZ"
   ]
  },
  {
   "cell_type": "code",
   "execution_count": 11,
   "id": "830dc15f-ef19-4f8d-8b73-bda63338ef2b",
   "metadata": {},
   "outputs": [
    {
     "name": "stdout",
     "output_type": "stream",
     "text": [
      "ABC\n"
     ]
    }
   ],
   "source": [
    "d = \"ABCDEFG\"\n",
    "print(d[0:3])"
   ]
  },
  {
   "cell_type": "markdown",
   "id": "75fda02d-41af-4590-8c8b-11585d409889",
   "metadata": {},
   "source": [
    "#### concept of Touple"
   ]
  },
  {
   "cell_type": "code",
   "execution_count": 12,
   "id": "567323a4-c5eb-4ae5-baa1-fcbbeee25550",
   "metadata": {},
   "outputs": [
    {
     "name": "stdout",
     "output_type": "stream",
     "text": [
      "(2, 'Ali', 2.9, 'LHR')\n"
     ]
    }
   ],
   "source": [
    "student1=(2,\"Ali\",2.9,\"LHR\")\n",
    "\n",
    "# touple , rows\n",
    "#coloumn, Attributes, fields\n",
    "\n",
    "print(student1)"
   ]
  },
  {
   "cell_type": "markdown",
   "id": "04feb817-5bd9-4b4e-abb3-da3a2da93dc1",
   "metadata": {},
   "source": [
    "#### printing index wise in a Touple"
   ]
  },
  {
   "cell_type": "code",
   "execution_count": 13,
   "id": "c8bc00b8-4686-43e6-97e8-36f9b8f2514b",
   "metadata": {},
   "outputs": [
    {
     "name": "stdout",
     "output_type": "stream",
     "text": [
      "2.9\n",
      "LHR\n",
      "2\n",
      "Ali\n"
     ]
    }
   ],
   "source": [
    "# PRINTING OF YOUR OWN VALUE\n",
    "print(student1[2])\n",
    "print(student1[3])\n",
    "print(student1[0])\n",
    "print(student1[1])"
   ]
  },
  {
   "cell_type": "markdown",
   "id": "325de2ba-eda5-41d8-b89a-58657d090d69",
   "metadata": {},
   "source": [
    "#### Touple of an Employee"
   ]
  },
  {
   "cell_type": "code",
   "execution_count": 14,
   "id": "534de13c-a0f5-4334-bed2-89283c12faf6",
   "metadata": {},
   "outputs": [
    {
     "name": "stdout",
     "output_type": "stream",
     "text": [
      "Employee' Id is: 94533\n",
      "Employee's name is: IKRAM\n",
      "Employee's salary is: 50000\n",
      "Employee's Department is: Information Technology\n",
      "Employee's date of joining is: 11-Sep-2023\n",
      "()\n"
     ]
    }
   ],
   "source": [
    "Emp=(94533,\"IKRAM\",50000,\"Information Technology\",\"11-Sep-2023\",(\"cs,it,oop\"))\n",
    "print(\"Employee' Id is:\", Emp[0]) #pointing the value present at 1st position\n",
    "print(\"Employee's name is:\", Emp[1]) #pointing the value present at 2nd position\n",
    "print(\"Employee's salary is:\", Emp[2]) #pointing the value present at 3rd position\n",
    "print(\"Employee's Department is:\", Emp[3]) #pointing the value present at 4th position\n",
    "print(\"Employee's date of joining is:\", Emp[4]) #pointing the value present at 5th position\n",
    "print(Emp[5:1])\n"
   ]
  },
  {
   "cell_type": "code",
   "execution_count": 15,
   "id": "f5434842-976f-4d52-8ade-2b43490c2b2d",
   "metadata": {},
   "outputs": [
    {
     "name": "stdout",
     "output_type": "stream",
     "text": [
      "<class 'str'>\n",
      "<class 'int'>\n",
      "<class 'str'>\n"
     ]
    },
    {
     "data": {
      "text/plain": [
       "'ji'"
      ]
     },
     "execution_count": 15,
     "metadata": {},
     "output_type": "execute_result"
    }
   ],
   "source": [
    "tuple1=(\"disco\",10,\"ji\")\n",
    "tuple1\n",
    "type(tuple1)\n",
    "tuple1[0]\n",
    "tuple1[1]\n",
    "tuple1[2]\n",
    "print(type(tuple1[0]))\n",
    "print(type(tuple1[1]))\n",
    "print(type(tuple1[-1]))\n",
    "tuple1[-1]"
   ]
  },
  {
   "cell_type": "markdown",
   "id": "f38f27ce-7f99-4860-b3b3-808128ba0fd1",
   "metadata": {},
   "source": [
    "### Concatenation of 2 tuples"
   ]
  },
  {
   "cell_type": "code",
   "execution_count": 16,
   "id": "660a3770-86bf-45eb-b05b-f759d47d1623",
   "metadata": {},
   "outputs": [
    {
     "name": "stdout",
     "output_type": "stream",
     "text": [
      "('Grapes', 'Apple', 'Appricot', 'Banana', 'strawberey', 'orange')\n",
      "printing the length of a touple =6\n"
     ]
    }
   ],
   "source": [
    "fruit1=(\"Grapes\",\"Apple\",\"Appricot\")\n",
    "fruit2=(\"Banana\",\"strawberey\",\"orange\")\n",
    "fruit=fruit1+fruit2\n",
    "print(fruit)\n",
    "print(f\"printing the length of a touple ={len(fruit)}\")"
   ]
  },
  {
   "cell_type": "markdown",
   "id": "7812b2ed-c309-4bc8-adad-5a08d4150358",
   "metadata": {},
   "source": [
    "#### sorting of tuple"
   ]
  },
  {
   "cell_type": "code",
   "execution_count": 17,
   "id": "0792d5ee-5d0c-4c79-9a9c-0ce1eee49c70",
   "metadata": {},
   "outputs": [
    {
     "name": "stdout",
     "output_type": "stream",
     "text": [
      "[28, 34, 56, 67, 78, 100]\n"
     ]
    }
   ],
   "source": [
    "tuple1=(78,28,56,34,67,100)\n",
    "sorted_tuple=sorted(tuple1)\n",
    "print(sorted_tuple)"
   ]
  },
  {
   "cell_type": "code",
   "execution_count": 18,
   "id": "a6831ef8-6ac4-4398-b4d1-b579f939e235",
   "metadata": {},
   "outputs": [
    {
     "name": "stdout",
     "output_type": "stream",
     "text": [
      "value of 2-->0 pop\n",
      "value of 2-->1 rock\n",
      "value of 2-->0 (2, ('pop', 'rock'), (3, 4))\n",
      "value of 2-->0 1\n",
      "value of 2-->0 2\n"
     ]
    }
   ],
   "source": [
    "NestedT =(1, 2, (\"pop\", \"rock\") ,(3,4),(\"disco\",(1,2)))\n",
    "print(\"value of 2-->0\" , NestedT[2][0])\n",
    "print(\"value of 2-->1\" , NestedT[2][1])\n",
    "print(\"value of 2-->0\" , NestedT[1:4])\n",
    "print(\"value of 2-->0\" , NestedT[4][1][0])\n",
    "print(\"value of 2-->0\" , NestedT[4][1][1])\n",
    "\n",
    "\n"
   ]
  },
  {
   "cell_type": "code",
   "execution_count": 19,
   "id": "4a4c2259-1a18-4df9-bdf4-ac7c2a0066ad",
   "metadata": {},
   "outputs": [
    {
     "data": {
      "text/plain": [
       "['apple', 'banana']"
      ]
     },
     "execution_count": 19,
     "metadata": {},
     "output_type": "execute_result"
    }
   ],
   "source": [
    "fruit=[\"apple\",\"banana\",\"mango\"]\n",
    "fruit\n",
    "del(fruit[2])\n",
    "fruit"
   ]
  },
  {
   "cell_type": "code",
   "execution_count": 20,
   "id": "e297ded0-e093-4802-8dbb-3044601b845a",
   "metadata": {},
   "outputs": [
    {
     "data": {
      "text/plain": [
       "['myname', 'isabuzar']"
      ]
     },
     "execution_count": 20,
     "metadata": {},
     "output_type": "execute_result"
    }
   ],
   "source": [
    "stri=\"myname isabuzar\"\n",
    "stri.split()\n"
   ]
  },
  {
   "cell_type": "code",
   "execution_count": 21,
   "id": "3b80f167-f9dc-490a-8d44-3f7531f6fd1d",
   "metadata": {},
   "outputs": [
    {
     "data": {
      "text/plain": [
       "['man', 'go']"
      ]
     },
     "execution_count": 21,
     "metadata": {},
     "output_type": "execute_result"
    }
   ],
   "source": [
    "fruit=[\"apple\",\"banana\",\"man go\"]\n",
    "fruit[2].split()"
   ]
  },
  {
   "cell_type": "code",
   "execution_count": 22,
   "id": "680dc6c3-e258-4ded-8666-8c2f3030f697",
   "metadata": {},
   "outputs": [
    {
     "data": {
      "text/plain": [
       "{'ID': [1, 2, 3],\n",
       " 'Names': ['Ali', 'Raza', 'Akmal'],\n",
       " 'Salary': [10000, 20000, 30000],\n",
       " 'Cell no.': ['+92323', '+92327', '+92316']}"
      ]
     },
     "execution_count": 22,
     "metadata": {},
     "output_type": "execute_result"
    }
   ],
   "source": [
    "Employee={\"ID\":[1,2,3],\"Names\":[\"Ali\",\"Raza\",\"Akmal\"],\"Salary\":[10000,20000,30000],\"Cell no.\":[\"+92323\",\"+92327\",\"+92316\"]}\n",
    "Employee"
   ]
  },
  {
   "cell_type": "code",
   "execution_count": 23,
   "id": "98a8338b-9d4f-4077-ac9d-b3dfb06e4792",
   "metadata": {},
   "outputs": [
    {
     "data": {
      "text/html": [
       "<div>\n",
       "<style scoped>\n",
       "    .dataframe tbody tr th:only-of-type {\n",
       "        vertical-align: middle;\n",
       "    }\n",
       "\n",
       "    .dataframe tbody tr th {\n",
       "        vertical-align: top;\n",
       "    }\n",
       "\n",
       "    .dataframe thead th {\n",
       "        text-align: right;\n",
       "    }\n",
       "</style>\n",
       "<table border=\"1\" class=\"dataframe\">\n",
       "  <thead>\n",
       "    <tr style=\"text-align: right;\">\n",
       "      <th></th>\n",
       "      <th>ID</th>\n",
       "      <th>Names</th>\n",
       "      <th>Salary</th>\n",
       "      <th>Cell no.</th>\n",
       "    </tr>\n",
       "  </thead>\n",
       "  <tbody>\n",
       "    <tr>\n",
       "      <th>0</th>\n",
       "      <td>1</td>\n",
       "      <td>Ali</td>\n",
       "      <td>10000</td>\n",
       "      <td>+92323</td>\n",
       "    </tr>\n",
       "    <tr>\n",
       "      <th>1</th>\n",
       "      <td>2</td>\n",
       "      <td>Raza</td>\n",
       "      <td>20000</td>\n",
       "      <td>+92327</td>\n",
       "    </tr>\n",
       "    <tr>\n",
       "      <th>2</th>\n",
       "      <td>3</td>\n",
       "      <td>Akmal</td>\n",
       "      <td>30000</td>\n",
       "      <td>+92316</td>\n",
       "    </tr>\n",
       "  </tbody>\n",
       "</table>\n",
       "</div>"
      ],
      "text/plain": [
       "   ID  Names  Salary Cell no.\n",
       "0   1    Ali   10000   +92323\n",
       "1   2   Raza   20000   +92327\n",
       "2   3  Akmal   30000   +92316"
      ]
     },
     "execution_count": 23,
     "metadata": {},
     "output_type": "execute_result"
    }
   ],
   "source": [
    "import pandas\n",
    "\n",
    "df=pandas.DataFrame(Employee)\n",
    "df"
   ]
  },
  {
   "cell_type": "code",
   "execution_count": 24,
   "id": "7b831824-1c2d-4956-a095-c2d452a1d40c",
   "metadata": {},
   "outputs": [
    {
     "data": {
      "text/html": [
       "<div>\n",
       "<style scoped>\n",
       "    .dataframe tbody tr th:only-of-type {\n",
       "        vertical-align: middle;\n",
       "    }\n",
       "\n",
       "    .dataframe tbody tr th {\n",
       "        vertical-align: top;\n",
       "    }\n",
       "\n",
       "    .dataframe thead th {\n",
       "        text-align: right;\n",
       "    }\n",
       "</style>\n",
       "<table border=\"1\" class=\"dataframe\">\n",
       "  <thead>\n",
       "    <tr style=\"text-align: right;\">\n",
       "      <th></th>\n",
       "      <th>Roll no.</th>\n",
       "      <th>Name</th>\n",
       "      <th>CGPA</th>\n",
       "      <th>Dept</th>\n",
       "    </tr>\n",
       "  </thead>\n",
       "  <tbody>\n",
       "    <tr>\n",
       "      <th>0</th>\n",
       "      <td>BCS23037</td>\n",
       "      <td>M.Abuzar</td>\n",
       "      <td>3.27</td>\n",
       "      <td>IT</td>\n",
       "    </tr>\n",
       "    <tr>\n",
       "      <th>1</th>\n",
       "      <td>BCS23028</td>\n",
       "      <td>M.Afaq</td>\n",
       "      <td>3.71</td>\n",
       "      <td>IT</td>\n",
       "    </tr>\n",
       "    <tr>\n",
       "      <th>2</th>\n",
       "      <td>BCS23028</td>\n",
       "      <td>M.Ahmad Butt</td>\n",
       "      <td>3.20</td>\n",
       "      <td>IT</td>\n",
       "    </tr>\n",
       "    <tr>\n",
       "      <th>3</th>\n",
       "      <td>BCS23011</td>\n",
       "      <td>Hassaan Ahmad</td>\n",
       "      <td>3.55</td>\n",
       "      <td>IT</td>\n",
       "    </tr>\n",
       "  </tbody>\n",
       "</table>\n",
       "</div>"
      ],
      "text/plain": [
       "   Roll no.           Name  CGPA Dept\n",
       "0  BCS23037       M.Abuzar  3.27   IT\n",
       "1  BCS23028         M.Afaq  3.71   IT\n",
       "2  BCS23028   M.Ahmad Butt  3.20   IT\n",
       "3  BCS23011  Hassaan Ahmad  3.55   IT"
      ]
     },
     "execution_count": 24,
     "metadata": {},
     "output_type": "execute_result"
    }
   ],
   "source": [
    "Student={\"Roll no.\":[\"BCS23037\",\"BCS23028\",\"BCS23028\",\"BCS23011\"],\"Name\":[\"M.Abuzar\",\"M.Afaq\",\"M.Ahmad Butt\",\"Hassaan Ahmad\"],\\\n",
    "         \"CGPA\":[3.27,3.71,3.20,3.55] ,\"Dept\":[\"IT\",\"IT\",\"IT\",\"IT\"] }\n",
    "\n",
    "import pandas\n",
    "df=pandas.DataFrame(Student)\n",
    "df"
   ]
  },
  {
   "cell_type": "code",
   "execution_count": 25,
   "id": "e4f72c8b-7d4e-40af-a7b0-b01555e5f499",
   "metadata": {},
   "outputs": [],
   "source": [
    "# LIBRARY NAME as (keyword) shot name for future use\n",
    "import matplotlib as mpl\n"
   ]
  },
  {
   "cell_type": "code",
   "execution_count": 26,
   "id": "e68fba3e-b445-483b-bc44-1e6ccfbdf81f",
   "metadata": {},
   "outputs": [
    {
     "data": {
      "text/html": [
       "<div>\n",
       "<style scoped>\n",
       "    .dataframe tbody tr th:only-of-type {\n",
       "        vertical-align: middle;\n",
       "    }\n",
       "\n",
       "    .dataframe tbody tr th {\n",
       "        vertical-align: top;\n",
       "    }\n",
       "\n",
       "    .dataframe thead th {\n",
       "        text-align: right;\n",
       "    }\n",
       "</style>\n",
       "<table border=\"1\" class=\"dataframe\">\n",
       "  <thead>\n",
       "    <tr style=\"text-align: right;\">\n",
       "      <th></th>\n",
       "      <th>ID</th>\n",
       "      <th>NAME</th>\n",
       "      <th>F_NAME</th>\n",
       "      <th>CGPA</th>\n",
       "      <th>ADDREES</th>\n",
       "      <th>BLOOD GROUP</th>\n",
       "      <th>Gender</th>\n",
       "    </tr>\n",
       "  </thead>\n",
       "  <tbody>\n",
       "    <tr>\n",
       "      <th>0</th>\n",
       "      <td>1</td>\n",
       "      <td>Ahmad</td>\n",
       "      <td>Wahid Butt</td>\n",
       "      <td>3.00</td>\n",
       "      <td>Narowal</td>\n",
       "      <td>A+</td>\n",
       "      <td>M</td>\n",
       "    </tr>\n",
       "    <tr>\n",
       "      <th>1</th>\n",
       "      <td>2</td>\n",
       "      <td>Uzair</td>\n",
       "      <td>Aulia</td>\n",
       "      <td>3.30</td>\n",
       "      <td>Attock</td>\n",
       "      <td>B+</td>\n",
       "      <td>M</td>\n",
       "    </tr>\n",
       "    <tr>\n",
       "      <th>2</th>\n",
       "      <td>3</td>\n",
       "      <td>Abuzar</td>\n",
       "      <td>M.Irfan</td>\n",
       "      <td>3.27</td>\n",
       "      <td>Nrg</td>\n",
       "      <td>O-</td>\n",
       "      <td>M</td>\n",
       "    </tr>\n",
       "    <tr>\n",
       "      <th>3</th>\n",
       "      <td>4</td>\n",
       "      <td>Hassan</td>\n",
       "      <td>Ahmad</td>\n",
       "      <td>3.55</td>\n",
       "      <td>GRW</td>\n",
       "      <td>A+</td>\n",
       "      <td>M</td>\n",
       "    </tr>\n",
       "    <tr>\n",
       "      <th>4</th>\n",
       "      <td>5</td>\n",
       "      <td>Afaq</td>\n",
       "      <td>Zahid</td>\n",
       "      <td>3.71</td>\n",
       "      <td>Pasrur</td>\n",
       "      <td>B+</td>\n",
       "      <td>M</td>\n",
       "    </tr>\n",
       "    <tr>\n",
       "      <th>5</th>\n",
       "      <td>6</td>\n",
       "      <td>Ali</td>\n",
       "      <td>Tariq</td>\n",
       "      <td>3.78</td>\n",
       "      <td>GRW</td>\n",
       "      <td>B+</td>\n",
       "      <td>M</td>\n",
       "    </tr>\n",
       "  </tbody>\n",
       "</table>\n",
       "</div>"
      ],
      "text/plain": [
       "   ID    NAME      F_NAME  CGPA  ADDREES BLOOD GROUP Gender\n",
       "0   1   Ahmad  Wahid Butt  3.00  Narowal          A+      M\n",
       "1   2   Uzair       Aulia  3.30   Attock          B+      M\n",
       "2   3  Abuzar     M.Irfan  3.27      Nrg          O-      M\n",
       "3   4  Hassan       Ahmad  3.55      GRW          A+      M\n",
       "4   5    Afaq       Zahid  3.71   Pasrur          B+      M\n",
       "5   6     Ali       Tariq  3.78      GRW          B+      M"
      ]
     },
     "execution_count": 26,
     "metadata": {},
     "output_type": "execute_result"
    }
   ],
   "source": [
    "import pandas as pandas\n",
    "df=pandas.read_excel(\"C:/Users/alihu/Desktop/TEVTA/Book2.xlsx\")\n",
    "df"
   ]
  },
  {
   "cell_type": "markdown",
   "id": "acd307eb-d630-4c75-a800-7fe34287392c",
   "metadata": {},
   "source": [
    "### 3rd Semester DSA marks"
   ]
  },
  {
   "cell_type": "code",
   "execution_count": 27,
   "id": "3ee46a12-e3e4-4ef9-b113-377a721f2cc9",
   "metadata": {
    "scrolled": true
   },
   "outputs": [
    {
     "data": {
      "text/html": [
       "<div>\n",
       "<style scoped>\n",
       "    .dataframe tbody tr th:only-of-type {\n",
       "        vertical-align: middle;\n",
       "    }\n",
       "\n",
       "    .dataframe tbody tr th {\n",
       "        vertical-align: top;\n",
       "    }\n",
       "\n",
       "    .dataframe thead th {\n",
       "        text-align: right;\n",
       "    }\n",
       "</style>\n",
       "<table border=\"1\" class=\"dataframe\">\n",
       "  <thead>\n",
       "    <tr style=\"text-align: right;\">\n",
       "      <th></th>\n",
       "      <th>Sr. No.</th>\n",
       "      <th>Roll no.</th>\n",
       "      <th>Names</th>\n",
       "      <th>Finals</th>\n",
       "      <th>Mids</th>\n",
       "      <th>Sessionals</th>\n",
       "      <th>Total</th>\n",
       "    </tr>\n",
       "  </thead>\n",
       "  <tbody>\n",
       "    <tr>\n",
       "      <th>0</th>\n",
       "      <td>1</td>\n",
       "      <td>BCS23001</td>\n",
       "      <td>Muhammad Ali Awan</td>\n",
       "      <td>0</td>\n",
       "      <td>0</td>\n",
       "      <td>0</td>\n",
       "      <td>0</td>\n",
       "    </tr>\n",
       "    <tr>\n",
       "      <th>1</th>\n",
       "      <td>2</td>\n",
       "      <td>BCS23002</td>\n",
       "      <td>Muqaddas Butt</td>\n",
       "      <td>33</td>\n",
       "      <td>13</td>\n",
       "      <td>11</td>\n",
       "      <td>57</td>\n",
       "    </tr>\n",
       "    <tr>\n",
       "      <th>2</th>\n",
       "      <td>3</td>\n",
       "      <td>BCS23003</td>\n",
       "      <td>Arooj</td>\n",
       "      <td>34</td>\n",
       "      <td>24</td>\n",
       "      <td>14</td>\n",
       "      <td>72</td>\n",
       "    </tr>\n",
       "    <tr>\n",
       "      <th>3</th>\n",
       "      <td>4</td>\n",
       "      <td>BCS23004</td>\n",
       "      <td>Aisha Abid</td>\n",
       "      <td>31</td>\n",
       "      <td>20</td>\n",
       "      <td>8</td>\n",
       "      <td>59</td>\n",
       "    </tr>\n",
       "    <tr>\n",
       "      <th>4</th>\n",
       "      <td>5</td>\n",
       "      <td>BCS23005</td>\n",
       "      <td>Huzaifa</td>\n",
       "      <td>27</td>\n",
       "      <td>22</td>\n",
       "      <td>13</td>\n",
       "      <td>62</td>\n",
       "    </tr>\n",
       "    <tr>\n",
       "      <th>5</th>\n",
       "      <td>6</td>\n",
       "      <td>BCS23006</td>\n",
       "      <td>Danish Naseer</td>\n",
       "      <td>37</td>\n",
       "      <td>29</td>\n",
       "      <td>13</td>\n",
       "      <td>79</td>\n",
       "    </tr>\n",
       "    <tr>\n",
       "      <th>6</th>\n",
       "      <td>7</td>\n",
       "      <td>BCS23007</td>\n",
       "      <td>Hadiqa Fatima</td>\n",
       "      <td>39</td>\n",
       "      <td>11</td>\n",
       "      <td>8</td>\n",
       "      <td>58</td>\n",
       "    </tr>\n",
       "    <tr>\n",
       "      <th>7</th>\n",
       "      <td>8</td>\n",
       "      <td>BCS23008</td>\n",
       "      <td>Azeen Fatima</td>\n",
       "      <td>33</td>\n",
       "      <td>17</td>\n",
       "      <td>11</td>\n",
       "      <td>61</td>\n",
       "    </tr>\n",
       "    <tr>\n",
       "      <th>8</th>\n",
       "      <td>9</td>\n",
       "      <td>BCS23009</td>\n",
       "      <td>Muhammad Musa</td>\n",
       "      <td>36</td>\n",
       "      <td>19</td>\n",
       "      <td>13</td>\n",
       "      <td>68</td>\n",
       "    </tr>\n",
       "    <tr>\n",
       "      <th>9</th>\n",
       "      <td>10</td>\n",
       "      <td>BCS23010</td>\n",
       "      <td>Muhammmad Qasim Siddiqi</td>\n",
       "      <td>36</td>\n",
       "      <td>34</td>\n",
       "      <td>19</td>\n",
       "      <td>89</td>\n",
       "    </tr>\n",
       "    <tr>\n",
       "      <th>10</th>\n",
       "      <td>11</td>\n",
       "      <td>BCS23011</td>\n",
       "      <td>Hassaan Ahmad</td>\n",
       "      <td>32</td>\n",
       "      <td>17</td>\n",
       "      <td>9</td>\n",
       "      <td>58</td>\n",
       "    </tr>\n",
       "    <tr>\n",
       "      <th>11</th>\n",
       "      <td>12</td>\n",
       "      <td>BCS23012</td>\n",
       "      <td>Sidra Liaqat</td>\n",
       "      <td>38</td>\n",
       "      <td>7</td>\n",
       "      <td>12</td>\n",
       "      <td>57</td>\n",
       "    </tr>\n",
       "    <tr>\n",
       "      <th>12</th>\n",
       "      <td>13</td>\n",
       "      <td>BCS23013</td>\n",
       "      <td>Irum Latif</td>\n",
       "      <td>40</td>\n",
       "      <td>18</td>\n",
       "      <td>9</td>\n",
       "      <td>67</td>\n",
       "    </tr>\n",
       "    <tr>\n",
       "      <th>13</th>\n",
       "      <td>14</td>\n",
       "      <td>BCS23014</td>\n",
       "      <td>Muhammad Ahmad</td>\n",
       "      <td>39</td>\n",
       "      <td>25</td>\n",
       "      <td>15</td>\n",
       "      <td>79</td>\n",
       "    </tr>\n",
       "    <tr>\n",
       "      <th>14</th>\n",
       "      <td>15</td>\n",
       "      <td>BCS23015</td>\n",
       "      <td>Awais Ahmad</td>\n",
       "      <td>0</td>\n",
       "      <td>9</td>\n",
       "      <td>0</td>\n",
       "      <td>9</td>\n",
       "    </tr>\n",
       "    <tr>\n",
       "      <th>15</th>\n",
       "      <td>16</td>\n",
       "      <td>BCS23016</td>\n",
       "      <td>Muhammad Haroon Arshad</td>\n",
       "      <td>31</td>\n",
       "      <td>13</td>\n",
       "      <td>5</td>\n",
       "      <td>49</td>\n",
       "    </tr>\n",
       "    <tr>\n",
       "      <th>16</th>\n",
       "      <td>17</td>\n",
       "      <td>BCS23017</td>\n",
       "      <td>Arbab Habib Ahmad</td>\n",
       "      <td>0</td>\n",
       "      <td>0</td>\n",
       "      <td>0</td>\n",
       "      <td>0</td>\n",
       "    </tr>\n",
       "    <tr>\n",
       "      <th>17</th>\n",
       "      <td>18</td>\n",
       "      <td>BCS23018</td>\n",
       "      <td>Taha Tariq</td>\n",
       "      <td>37</td>\n",
       "      <td>19</td>\n",
       "      <td>11</td>\n",
       "      <td>67</td>\n",
       "    </tr>\n",
       "    <tr>\n",
       "      <th>18</th>\n",
       "      <td>19</td>\n",
       "      <td>BCS23019</td>\n",
       "      <td>Wareesha Qadeer</td>\n",
       "      <td>0</td>\n",
       "      <td>0</td>\n",
       "      <td>0</td>\n",
       "      <td>0</td>\n",
       "    </tr>\n",
       "    <tr>\n",
       "      <th>19</th>\n",
       "      <td>20</td>\n",
       "      <td>BCS23020</td>\n",
       "      <td>Malaika</td>\n",
       "      <td>35</td>\n",
       "      <td>13</td>\n",
       "      <td>8</td>\n",
       "      <td>56</td>\n",
       "    </tr>\n",
       "    <tr>\n",
       "      <th>20</th>\n",
       "      <td>21</td>\n",
       "      <td>BCS23021</td>\n",
       "      <td>Ahmad Raza  Saleem</td>\n",
       "      <td>19</td>\n",
       "      <td>4</td>\n",
       "      <td>11</td>\n",
       "      <td>34</td>\n",
       "    </tr>\n",
       "    <tr>\n",
       "      <th>21</th>\n",
       "      <td>22</td>\n",
       "      <td>BCS23022</td>\n",
       "      <td>Qadar Yasin</td>\n",
       "      <td>38</td>\n",
       "      <td>29</td>\n",
       "      <td>7</td>\n",
       "      <td>74</td>\n",
       "    </tr>\n",
       "    <tr>\n",
       "      <th>22</th>\n",
       "      <td>23</td>\n",
       "      <td>BCS23023</td>\n",
       "      <td>Waleed Qamar</td>\n",
       "      <td>39</td>\n",
       "      <td>29</td>\n",
       "      <td>17</td>\n",
       "      <td>85</td>\n",
       "    </tr>\n",
       "    <tr>\n",
       "      <th>23</th>\n",
       "      <td>24</td>\n",
       "      <td>BCS23024</td>\n",
       "      <td>Muhammad Fazail Nadeem</td>\n",
       "      <td>37</td>\n",
       "      <td>16</td>\n",
       "      <td>17</td>\n",
       "      <td>70</td>\n",
       "    </tr>\n",
       "    <tr>\n",
       "      <th>24</th>\n",
       "      <td>25</td>\n",
       "      <td>BCS23025</td>\n",
       "      <td>Harram</td>\n",
       "      <td>39</td>\n",
       "      <td>30</td>\n",
       "      <td>15</td>\n",
       "      <td>84</td>\n",
       "    </tr>\n",
       "    <tr>\n",
       "      <th>25</th>\n",
       "      <td>26</td>\n",
       "      <td>BCS23026</td>\n",
       "      <td>Muhammad Hassan Arshad</td>\n",
       "      <td>31</td>\n",
       "      <td>29</td>\n",
       "      <td>18</td>\n",
       "      <td>78</td>\n",
       "    </tr>\n",
       "    <tr>\n",
       "      <th>26</th>\n",
       "      <td>27</td>\n",
       "      <td>BCS23027</td>\n",
       "      <td>Umm E Kalsoom</td>\n",
       "      <td>33</td>\n",
       "      <td>17</td>\n",
       "      <td>7</td>\n",
       "      <td>57</td>\n",
       "    </tr>\n",
       "    <tr>\n",
       "      <th>27</th>\n",
       "      <td>28</td>\n",
       "      <td>BCS23028</td>\n",
       "      <td>Muhammad Afaq</td>\n",
       "      <td>38</td>\n",
       "      <td>30</td>\n",
       "      <td>15</td>\n",
       "      <td>83</td>\n",
       "    </tr>\n",
       "    <tr>\n",
       "      <th>28</th>\n",
       "      <td>29</td>\n",
       "      <td>BCS23029</td>\n",
       "      <td>Hafsa Kashif</td>\n",
       "      <td>30</td>\n",
       "      <td>9</td>\n",
       "      <td>5</td>\n",
       "      <td>44</td>\n",
       "    </tr>\n",
       "    <tr>\n",
       "      <th>29</th>\n",
       "      <td>30</td>\n",
       "      <td>BCS23030</td>\n",
       "      <td>Nimra</td>\n",
       "      <td>38</td>\n",
       "      <td>28</td>\n",
       "      <td>11</td>\n",
       "      <td>77</td>\n",
       "    </tr>\n",
       "    <tr>\n",
       "      <th>30</th>\n",
       "      <td>31</td>\n",
       "      <td>BCS23031</td>\n",
       "      <td>Laiba Zaman</td>\n",
       "      <td>0</td>\n",
       "      <td>0</td>\n",
       "      <td>0</td>\n",
       "      <td>0</td>\n",
       "    </tr>\n",
       "    <tr>\n",
       "      <th>31</th>\n",
       "      <td>32</td>\n",
       "      <td>BCS23032</td>\n",
       "      <td>Hajra Haram Kayant</td>\n",
       "      <td>0</td>\n",
       "      <td>0</td>\n",
       "      <td>0</td>\n",
       "      <td>0</td>\n",
       "    </tr>\n",
       "    <tr>\n",
       "      <th>32</th>\n",
       "      <td>33</td>\n",
       "      <td>BCS23033</td>\n",
       "      <td>Ebaad Raheem</td>\n",
       "      <td>39</td>\n",
       "      <td>20</td>\n",
       "      <td>13</td>\n",
       "      <td>72</td>\n",
       "    </tr>\n",
       "    <tr>\n",
       "      <th>33</th>\n",
       "      <td>34</td>\n",
       "      <td>BCS23034</td>\n",
       "      <td>Zoha Waris</td>\n",
       "      <td>36</td>\n",
       "      <td>17</td>\n",
       "      <td>10</td>\n",
       "      <td>63</td>\n",
       "    </tr>\n",
       "    <tr>\n",
       "      <th>34</th>\n",
       "      <td>35</td>\n",
       "      <td>BCS23035</td>\n",
       "      <td>Iqra</td>\n",
       "      <td>34</td>\n",
       "      <td>24</td>\n",
       "      <td>12</td>\n",
       "      <td>70</td>\n",
       "    </tr>\n",
       "    <tr>\n",
       "      <th>35</th>\n",
       "      <td>36</td>\n",
       "      <td>BCS23036</td>\n",
       "      <td>Mahin Nazam</td>\n",
       "      <td>35</td>\n",
       "      <td>23</td>\n",
       "      <td>15</td>\n",
       "      <td>73</td>\n",
       "    </tr>\n",
       "    <tr>\n",
       "      <th>36</th>\n",
       "      <td>37</td>\n",
       "      <td>BCS23037</td>\n",
       "      <td>Muhammad Abuzar</td>\n",
       "      <td>32</td>\n",
       "      <td>10</td>\n",
       "      <td>9</td>\n",
       "      <td>51</td>\n",
       "    </tr>\n",
       "    <tr>\n",
       "      <th>37</th>\n",
       "      <td>38</td>\n",
       "      <td>BCS23038</td>\n",
       "      <td>Irha Tabbassum</td>\n",
       "      <td>27</td>\n",
       "      <td>23</td>\n",
       "      <td>13</td>\n",
       "      <td>63</td>\n",
       "    </tr>\n",
       "    <tr>\n",
       "      <th>38</th>\n",
       "      <td>39</td>\n",
       "      <td>BCS23039</td>\n",
       "      <td>Mashizbail Masih</td>\n",
       "      <td>0</td>\n",
       "      <td>0</td>\n",
       "      <td>0</td>\n",
       "      <td>0</td>\n",
       "    </tr>\n",
       "    <tr>\n",
       "      <th>39</th>\n",
       "      <td>40</td>\n",
       "      <td>BCS23040</td>\n",
       "      <td>Amina Umer Dar</td>\n",
       "      <td>28</td>\n",
       "      <td>18</td>\n",
       "      <td>15</td>\n",
       "      <td>61</td>\n",
       "    </tr>\n",
       "    <tr>\n",
       "      <th>40</th>\n",
       "      <td>41</td>\n",
       "      <td>BCS23041</td>\n",
       "      <td>Barina Shafique</td>\n",
       "      <td>34</td>\n",
       "      <td>21</td>\n",
       "      <td>9</td>\n",
       "      <td>64</td>\n",
       "    </tr>\n",
       "    <tr>\n",
       "      <th>41</th>\n",
       "      <td>42</td>\n",
       "      <td>BCS23042</td>\n",
       "      <td>Muhammad Hassan</td>\n",
       "      <td>29</td>\n",
       "      <td>18</td>\n",
       "      <td>5</td>\n",
       "      <td>52</td>\n",
       "    </tr>\n",
       "    <tr>\n",
       "      <th>42</th>\n",
       "      <td>43</td>\n",
       "      <td>BCS23043</td>\n",
       "      <td>Fiza Asif</td>\n",
       "      <td>32</td>\n",
       "      <td>4</td>\n",
       "      <td>5</td>\n",
       "      <td>41</td>\n",
       "    </tr>\n",
       "    <tr>\n",
       "      <th>43</th>\n",
       "      <td>44</td>\n",
       "      <td>BCS23044</td>\n",
       "      <td>Abdullah</td>\n",
       "      <td>35</td>\n",
       "      <td>17</td>\n",
       "      <td>8</td>\n",
       "      <td>60</td>\n",
       "    </tr>\n",
       "    <tr>\n",
       "      <th>44</th>\n",
       "      <td>45</td>\n",
       "      <td>BCS23045</td>\n",
       "      <td>Muhammad Mubeen</td>\n",
       "      <td>32</td>\n",
       "      <td>11</td>\n",
       "      <td>13</td>\n",
       "      <td>56</td>\n",
       "    </tr>\n",
       "    <tr>\n",
       "      <th>45</th>\n",
       "      <td>46</td>\n",
       "      <td>BCS23046</td>\n",
       "      <td>Laiba Liaqat</td>\n",
       "      <td>0</td>\n",
       "      <td>0</td>\n",
       "      <td>0</td>\n",
       "      <td>0</td>\n",
       "    </tr>\n",
       "    <tr>\n",
       "      <th>46</th>\n",
       "      <td>47</td>\n",
       "      <td>BCS22033</td>\n",
       "      <td>Faizan Abid</td>\n",
       "      <td>39</td>\n",
       "      <td>27</td>\n",
       "      <td>9</td>\n",
       "      <td>75</td>\n",
       "    </tr>\n",
       "    <tr>\n",
       "      <th>47</th>\n",
       "      <td>48</td>\n",
       "      <td>BCS22042</td>\n",
       "      <td>Shahwar Ahmed</td>\n",
       "      <td>28</td>\n",
       "      <td>19</td>\n",
       "      <td>5</td>\n",
       "      <td>52</td>\n",
       "    </tr>\n",
       "    <tr>\n",
       "      <th>48</th>\n",
       "      <td>49</td>\n",
       "      <td>BIT21237</td>\n",
       "      <td>Abdullah</td>\n",
       "      <td>12</td>\n",
       "      <td>0</td>\n",
       "      <td>0</td>\n",
       "      <td>12</td>\n",
       "    </tr>\n",
       "  </tbody>\n",
       "</table>\n",
       "</div>"
      ],
      "text/plain": [
       "    Sr. No.  Roll no.                    Names  Finals  Mids  Sessionals  \\\n",
       "0         1  BCS23001        Muhammad Ali Awan       0     0           0   \n",
       "1         2  BCS23002            Muqaddas Butt      33    13          11   \n",
       "2         3  BCS23003                    Arooj      34    24          14   \n",
       "3         4  BCS23004               Aisha Abid      31    20           8   \n",
       "4         5  BCS23005                  Huzaifa      27    22          13   \n",
       "5         6  BCS23006            Danish Naseer      37    29          13   \n",
       "6         7  BCS23007            Hadiqa Fatima      39    11           8   \n",
       "7         8  BCS23008             Azeen Fatima      33    17          11   \n",
       "8         9  BCS23009            Muhammad Musa      36    19          13   \n",
       "9        10  BCS23010  Muhammmad Qasim Siddiqi      36    34          19   \n",
       "10       11  BCS23011            Hassaan Ahmad      32    17           9   \n",
       "11       12  BCS23012             Sidra Liaqat      38     7          12   \n",
       "12       13  BCS23013               Irum Latif      40    18           9   \n",
       "13       14  BCS23014           Muhammad Ahmad      39    25          15   \n",
       "14       15  BCS23015              Awais Ahmad       0     9           0   \n",
       "15       16  BCS23016   Muhammad Haroon Arshad      31    13           5   \n",
       "16       17  BCS23017        Arbab Habib Ahmad       0     0           0   \n",
       "17       18  BCS23018               Taha Tariq      37    19          11   \n",
       "18       19  BCS23019          Wareesha Qadeer       0     0           0   \n",
       "19       20  BCS23020                  Malaika      35    13           8   \n",
       "20       21  BCS23021       Ahmad Raza  Saleem      19     4          11   \n",
       "21       22  BCS23022              Qadar Yasin      38    29           7   \n",
       "22       23  BCS23023             Waleed Qamar      39    29          17   \n",
       "23       24  BCS23024   Muhammad Fazail Nadeem      37    16          17   \n",
       "24       25  BCS23025                   Harram      39    30          15   \n",
       "25       26  BCS23026   Muhammad Hassan Arshad      31    29          18   \n",
       "26       27  BCS23027            Umm E Kalsoom      33    17           7   \n",
       "27       28  BCS23028            Muhammad Afaq      38    30          15   \n",
       "28       29  BCS23029             Hafsa Kashif      30     9           5   \n",
       "29       30  BCS23030                    Nimra      38    28          11   \n",
       "30       31  BCS23031              Laiba Zaman       0     0           0   \n",
       "31       32  BCS23032       Hajra Haram Kayant       0     0           0   \n",
       "32       33  BCS23033             Ebaad Raheem      39    20          13   \n",
       "33       34  BCS23034               Zoha Waris      36    17          10   \n",
       "34       35  BCS23035                     Iqra      34    24          12   \n",
       "35       36  BCS23036              Mahin Nazam      35    23          15   \n",
       "36       37  BCS23037          Muhammad Abuzar      32    10           9   \n",
       "37       38  BCS23038           Irha Tabbassum      27    23          13   \n",
       "38       39  BCS23039         Mashizbail Masih       0     0           0   \n",
       "39       40  BCS23040           Amina Umer Dar      28    18          15   \n",
       "40       41  BCS23041          Barina Shafique      34    21           9   \n",
       "41       42  BCS23042          Muhammad Hassan      29    18           5   \n",
       "42       43  BCS23043                Fiza Asif      32     4           5   \n",
       "43       44  BCS23044                 Abdullah      35    17           8   \n",
       "44       45  BCS23045          Muhammad Mubeen      32    11          13   \n",
       "45       46  BCS23046             Laiba Liaqat       0     0           0   \n",
       "46       47  BCS22033              Faizan Abid      39    27           9   \n",
       "47       48  BCS22042            Shahwar Ahmed      28    19           5   \n",
       "48       49  BIT21237                 Abdullah      12     0           0   \n",
       "\n",
       "    Total  \n",
       "0       0  \n",
       "1      57  \n",
       "2      72  \n",
       "3      59  \n",
       "4      62  \n",
       "5      79  \n",
       "6      58  \n",
       "7      61  \n",
       "8      68  \n",
       "9      89  \n",
       "10     58  \n",
       "11     57  \n",
       "12     67  \n",
       "13     79  \n",
       "14      9  \n",
       "15     49  \n",
       "16      0  \n",
       "17     67  \n",
       "18      0  \n",
       "19     56  \n",
       "20     34  \n",
       "21     74  \n",
       "22     85  \n",
       "23     70  \n",
       "24     84  \n",
       "25     78  \n",
       "26     57  \n",
       "27     83  \n",
       "28     44  \n",
       "29     77  \n",
       "30      0  \n",
       "31      0  \n",
       "32     72  \n",
       "33     63  \n",
       "34     70  \n",
       "35     73  \n",
       "36     51  \n",
       "37     63  \n",
       "38      0  \n",
       "39     61  \n",
       "40     64  \n",
       "41     52  \n",
       "42     41  \n",
       "43     60  \n",
       "44     56  \n",
       "45      0  \n",
       "46     75  \n",
       "47     52  \n",
       "48     12  "
      ]
     },
     "execution_count": 27,
     "metadata": {},
     "output_type": "execute_result"
    }
   ],
   "source": [
    "import pandas\n",
    "df=pandas.read_excel(\"C:/Users/alihu/Desktop/New folder/Final Report.xlsx\")\n",
    "df"
   ]
  },
  {
   "cell_type": "code",
   "execution_count": null,
   "id": "1bae1a49-ebdc-42e6-bda2-ef7f1897a564",
   "metadata": {},
   "outputs": [],
   "source": []
  }
 ],
 "metadata": {
  "kernelspec": {
   "display_name": "Python 3 (ipykernel)",
   "language": "python",
   "name": "python3"
  },
  "language_info": {
   "codemirror_mode": {
    "name": "ipython",
    "version": 3
   },
   "file_extension": ".py",
   "mimetype": "text/x-python",
   "name": "python",
   "nbconvert_exporter": "python",
   "pygments_lexer": "ipython3",
   "version": "3.12.7"
  }
 },
 "nbformat": 4,
 "nbformat_minor": 5
}
